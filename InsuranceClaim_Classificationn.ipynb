{
  "nbformat": 4,
  "nbformat_minor": 0,
  "metadata": {
    "colab": {
      "provenance": []
    },
    "kernelspec": {
      "name": "python3",
      "display_name": "Python 3"
    },
    "language_info": {
      "name": "python"
    }
  },
  "cells": [
    {
      "cell_type": "code",
      "execution_count": null,
      "metadata": {
        "id": "HgpgzK-K1mh4"
      },
      "outputs": [],
      "source": [
        "import pandas as pd\n",
        "import numpy as np"
      ]
    },
    {
      "cell_type": "code",
      "source": [
        "df = pd.read_csv('insurance.csv')"
      ],
      "metadata": {
        "id": "qnb0mcNR5TNe"
      },
      "execution_count": null,
      "outputs": []
    },
    {
      "cell_type": "markdown",
      "source": [
        "\n",
        "<br>**EDA**"
      ],
      "metadata": {
        "id": "oHF-n9xhqctI"
      }
    },
    {
      "cell_type": "code",
      "source": [
        "df.head()"
      ],
      "metadata": {
        "colab": {
          "base_uri": "https://localhost:8080/",
          "height": 206
        },
        "id": "z63xkut06Puu",
        "outputId": "19dfff07-d335-47f3-90a4-544eae4cd87b"
      },
      "execution_count": null,
      "outputs": [
        {
          "output_type": "execute_result",
          "data": {
            "text/plain": [
              "   age  sex     bmi  steps  children  smoker  region      charges  \\\n",
              "0   19    0  27.900   3009         0       1       3  16884.92400   \n",
              "1   18    1  33.770   3008         1       0       2   1725.55230   \n",
              "2   28    1  33.000   3009         3       0       2   4449.46200   \n",
              "3   33    1  22.705  10009         0       0       1  21984.47061   \n",
              "4   32    1  28.880   8010         0       0       1   3866.85520   \n",
              "\n",
              "   insuranceclaim  \n",
              "0               1  \n",
              "1               1  \n",
              "2               0  \n",
              "3               0  \n",
              "4               1  "
            ],
            "text/html": [
              "\n",
              "  <div id=\"df-1903d8a1-9482-4ab3-8ef8-54d0afac7ae9\">\n",
              "    <div class=\"colab-df-container\">\n",
              "      <div>\n",
              "<style scoped>\n",
              "    .dataframe tbody tr th:only-of-type {\n",
              "        vertical-align: middle;\n",
              "    }\n",
              "\n",
              "    .dataframe tbody tr th {\n",
              "        vertical-align: top;\n",
              "    }\n",
              "\n",
              "    .dataframe thead th {\n",
              "        text-align: right;\n",
              "    }\n",
              "</style>\n",
              "<table border=\"1\" class=\"dataframe\">\n",
              "  <thead>\n",
              "    <tr style=\"text-align: right;\">\n",
              "      <th></th>\n",
              "      <th>age</th>\n",
              "      <th>sex</th>\n",
              "      <th>bmi</th>\n",
              "      <th>steps</th>\n",
              "      <th>children</th>\n",
              "      <th>smoker</th>\n",
              "      <th>region</th>\n",
              "      <th>charges</th>\n",
              "      <th>insuranceclaim</th>\n",
              "    </tr>\n",
              "  </thead>\n",
              "  <tbody>\n",
              "    <tr>\n",
              "      <th>0</th>\n",
              "      <td>19</td>\n",
              "      <td>0</td>\n",
              "      <td>27.900</td>\n",
              "      <td>3009</td>\n",
              "      <td>0</td>\n",
              "      <td>1</td>\n",
              "      <td>3</td>\n",
              "      <td>16884.92400</td>\n",
              "      <td>1</td>\n",
              "    </tr>\n",
              "    <tr>\n",
              "      <th>1</th>\n",
              "      <td>18</td>\n",
              "      <td>1</td>\n",
              "      <td>33.770</td>\n",
              "      <td>3008</td>\n",
              "      <td>1</td>\n",
              "      <td>0</td>\n",
              "      <td>2</td>\n",
              "      <td>1725.55230</td>\n",
              "      <td>1</td>\n",
              "    </tr>\n",
              "    <tr>\n",
              "      <th>2</th>\n",
              "      <td>28</td>\n",
              "      <td>1</td>\n",
              "      <td>33.000</td>\n",
              "      <td>3009</td>\n",
              "      <td>3</td>\n",
              "      <td>0</td>\n",
              "      <td>2</td>\n",
              "      <td>4449.46200</td>\n",
              "      <td>0</td>\n",
              "    </tr>\n",
              "    <tr>\n",
              "      <th>3</th>\n",
              "      <td>33</td>\n",
              "      <td>1</td>\n",
              "      <td>22.705</td>\n",
              "      <td>10009</td>\n",
              "      <td>0</td>\n",
              "      <td>0</td>\n",
              "      <td>1</td>\n",
              "      <td>21984.47061</td>\n",
              "      <td>0</td>\n",
              "    </tr>\n",
              "    <tr>\n",
              "      <th>4</th>\n",
              "      <td>32</td>\n",
              "      <td>1</td>\n",
              "      <td>28.880</td>\n",
              "      <td>8010</td>\n",
              "      <td>0</td>\n",
              "      <td>0</td>\n",
              "      <td>1</td>\n",
              "      <td>3866.85520</td>\n",
              "      <td>1</td>\n",
              "    </tr>\n",
              "  </tbody>\n",
              "</table>\n",
              "</div>\n",
              "      <button class=\"colab-df-convert\" onclick=\"convertToInteractive('df-1903d8a1-9482-4ab3-8ef8-54d0afac7ae9')\"\n",
              "              title=\"Convert this dataframe to an interactive table.\"\n",
              "              style=\"display:none;\">\n",
              "        \n",
              "  <svg xmlns=\"http://www.w3.org/2000/svg\" height=\"24px\"viewBox=\"0 0 24 24\"\n",
              "       width=\"24px\">\n",
              "    <path d=\"M0 0h24v24H0V0z\" fill=\"none\"/>\n",
              "    <path d=\"M18.56 5.44l.94 2.06.94-2.06 2.06-.94-2.06-.94-.94-2.06-.94 2.06-2.06.94zm-11 1L8.5 8.5l.94-2.06 2.06-.94-2.06-.94L8.5 2.5l-.94 2.06-2.06.94zm10 10l.94 2.06.94-2.06 2.06-.94-2.06-.94-.94-2.06-.94 2.06-2.06.94z\"/><path d=\"M17.41 7.96l-1.37-1.37c-.4-.4-.92-.59-1.43-.59-.52 0-1.04.2-1.43.59L10.3 9.45l-7.72 7.72c-.78.78-.78 2.05 0 2.83L4 21.41c.39.39.9.59 1.41.59.51 0 1.02-.2 1.41-.59l7.78-7.78 2.81-2.81c.8-.78.8-2.07 0-2.86zM5.41 20L4 18.59l7.72-7.72 1.47 1.35L5.41 20z\"/>\n",
              "  </svg>\n",
              "      </button>\n",
              "      \n",
              "  <style>\n",
              "    .colab-df-container {\n",
              "      display:flex;\n",
              "      flex-wrap:wrap;\n",
              "      gap: 12px;\n",
              "    }\n",
              "\n",
              "    .colab-df-convert {\n",
              "      background-color: #E8F0FE;\n",
              "      border: none;\n",
              "      border-radius: 50%;\n",
              "      cursor: pointer;\n",
              "      display: none;\n",
              "      fill: #1967D2;\n",
              "      height: 32px;\n",
              "      padding: 0 0 0 0;\n",
              "      width: 32px;\n",
              "    }\n",
              "\n",
              "    .colab-df-convert:hover {\n",
              "      background-color: #E2EBFA;\n",
              "      box-shadow: 0px 1px 2px rgba(60, 64, 67, 0.3), 0px 1px 3px 1px rgba(60, 64, 67, 0.15);\n",
              "      fill: #174EA6;\n",
              "    }\n",
              "\n",
              "    [theme=dark] .colab-df-convert {\n",
              "      background-color: #3B4455;\n",
              "      fill: #D2E3FC;\n",
              "    }\n",
              "\n",
              "    [theme=dark] .colab-df-convert:hover {\n",
              "      background-color: #434B5C;\n",
              "      box-shadow: 0px 1px 3px 1px rgba(0, 0, 0, 0.15);\n",
              "      filter: drop-shadow(0px 1px 2px rgba(0, 0, 0, 0.3));\n",
              "      fill: #FFFFFF;\n",
              "    }\n",
              "  </style>\n",
              "\n",
              "      <script>\n",
              "        const buttonEl =\n",
              "          document.querySelector('#df-1903d8a1-9482-4ab3-8ef8-54d0afac7ae9 button.colab-df-convert');\n",
              "        buttonEl.style.display =\n",
              "          google.colab.kernel.accessAllowed ? 'block' : 'none';\n",
              "\n",
              "        async function convertToInteractive(key) {\n",
              "          const element = document.querySelector('#df-1903d8a1-9482-4ab3-8ef8-54d0afac7ae9');\n",
              "          const dataTable =\n",
              "            await google.colab.kernel.invokeFunction('convertToInteractive',\n",
              "                                                     [key], {});\n",
              "          if (!dataTable) return;\n",
              "\n",
              "          const docLinkHtml = 'Like what you see? Visit the ' +\n",
              "            '<a target=\"_blank\" href=https://colab.research.google.com/notebooks/data_table.ipynb>data table notebook</a>'\n",
              "            + ' to learn more about interactive tables.';\n",
              "          element.innerHTML = '';\n",
              "          dataTable['output_type'] = 'display_data';\n",
              "          await google.colab.output.renderOutput(dataTable, element);\n",
              "          const docLink = document.createElement('div');\n",
              "          docLink.innerHTML = docLinkHtml;\n",
              "          element.appendChild(docLink);\n",
              "        }\n",
              "      </script>\n",
              "    </div>\n",
              "  </div>\n",
              "  "
            ]
          },
          "metadata": {},
          "execution_count": 9
        }
      ]
    },
    {
      "cell_type": "markdown",
      "source": [
        "Setelah data diload saya menggunakan head function untuk melihat 5 data teratas"
      ],
      "metadata": {
        "id": "ZzYvK7Fvpo1v"
      }
    },
    {
      "cell_type": "code",
      "source": [
        "print('Dimensity:', df.shape)\n",
        "print(df.describe())"
      ],
      "metadata": {
        "colab": {
          "base_uri": "https://localhost:8080/"
        },
        "id": "kWDiB2BC6ixJ",
        "outputId": "7e181259-8a70-43fc-82ed-a14c22f5a28a"
      },
      "execution_count": null,
      "outputs": [
        {
          "output_type": "stream",
          "name": "stdout",
          "text": [
            "Dimensity: (1338, 9)\n",
            "               age          sex          bmi         steps     children  \\\n",
            "count  1338.000000  1338.000000  1338.000000   1338.000000  1338.000000   \n",
            "mean     39.207025     0.505232    30.663397   5328.623318     1.094918   \n",
            "std      14.049960     0.500160     6.098187   2453.643236     1.205493   \n",
            "min      18.000000     0.000000    15.960000   3000.000000     0.000000   \n",
            "25%      27.000000     0.000000    26.296250   3008.000000     0.000000   \n",
            "50%      39.000000     1.000000    30.400000   4007.000000     1.000000   \n",
            "75%      51.000000     1.000000    34.693750   8004.000000     2.000000   \n",
            "max      64.000000     1.000000    53.130000  10010.000000     5.000000   \n",
            "\n",
            "            smoker       region       charges  insuranceclaim  \n",
            "count  1338.000000  1338.000000   1338.000000     1338.000000  \n",
            "mean      0.204783     1.515695  13270.422265        0.585202  \n",
            "std       0.403694     1.104885  12110.011237        0.492871  \n",
            "min       0.000000     0.000000   1121.873900        0.000000  \n",
            "25%       0.000000     1.000000   4740.287150        0.000000  \n",
            "50%       0.000000     2.000000   9382.033000        1.000000  \n",
            "75%       0.000000     2.000000  16639.912515        1.000000  \n",
            "max       1.000000     3.000000  63770.428010        1.000000  \n"
          ]
        }
      ]
    },
    {
      "cell_type": "markdown",
      "source": [
        "Diatas adalah dimensi dan deskriptif statistik dari dataset"
      ],
      "metadata": {
        "id": "4mp4w0_wqhYM"
      }
    },
    {
      "cell_type": "markdown",
      "source": [
        "  DALAM MELAKUKAN EKSPLORASI DATA PADA KASUS INI ADA BEBERAPA HAL YANG SAYA PERHATIKAN TERLEBIH DAHULU:\n",
        "- Missing value\n",
        "- Categorical variable\n",
        "- Scalling\n",
        "- Imbalance target<br><br>\n",
        "Jika ditemukan kondisi-kondisi diatas maka diperlukan data preprocessing untuk menghandle kondisi tersebut."
      ],
      "metadata": {
        "id": "NrT3uzr6InD0"
      }
    },
    {
      "cell_type": "code",
      "source": [
        "#1 Missing value\n",
        "print(df.isna().sum())"
      ],
      "metadata": {
        "colab": {
          "base_uri": "https://localhost:8080/"
        },
        "id": "Kzc_tH_CIobR",
        "outputId": "d0159c1f-29a9-4856-f8d6-4d1dc7a7d94e"
      },
      "execution_count": null,
      "outputs": [
        {
          "output_type": "stream",
          "name": "stdout",
          "text": [
            "age               0\n",
            "sex               0\n",
            "bmi               0\n",
            "steps             0\n",
            "children          0\n",
            "smoker            0\n",
            "region            0\n",
            "charges           0\n",
            "insuranceclaim    0\n",
            "dtype: int64\n"
          ]
        }
      ]
    },
    {
      "cell_type": "markdown",
      "source": [
        "Karena tidak terdapat missing value jadi data sudah"
      ],
      "metadata": {
        "id": "OYCjHBcQqTxo"
      }
    },
    {
      "cell_type": "code",
      "source": [
        "#2 Categorical variable\n",
        "#Hal ini dilakukan agar nilai kategori bisa diubah menjadi nilai numerik yang bisa digunakan dalam pembuatan model.\n",
        "df.info()"
      ],
      "metadata": {
        "colab": {
          "base_uri": "https://localhost:8080/"
        },
        "id": "6YvI100mLk_Z",
        "outputId": "6815901c-908e-4d0c-acbb-9dafb4381f2e"
      },
      "execution_count": null,
      "outputs": [
        {
          "output_type": "stream",
          "name": "stdout",
          "text": [
            "<class 'pandas.core.frame.DataFrame'>\n",
            "RangeIndex: 1338 entries, 0 to 1337\n",
            "Data columns (total 9 columns):\n",
            " #   Column          Non-Null Count  Dtype  \n",
            "---  ------          --------------  -----  \n",
            " 0   age             1338 non-null   int64  \n",
            " 1   sex             1338 non-null   int64  \n",
            " 2   bmi             1338 non-null   float64\n",
            " 3   steps           1338 non-null   int64  \n",
            " 4   children        1338 non-null   int64  \n",
            " 5   smoker          1338 non-null   int64  \n",
            " 6   region          1338 non-null   int64  \n",
            " 7   charges         1338 non-null   float64\n",
            " 8   insuranceclaim  1338 non-null   int64  \n",
            "dtypes: float64(2), int64(7)\n",
            "memory usage: 94.2 KB\n"
          ]
        }
      ]
    },
    {
      "cell_type": "markdown",
      "source": [
        "Pada dataset ini seluruh feature/variabel memiliki tipe numerik sehingga kita tidak perlu melakukan encoding untuk feature."
      ],
      "metadata": {
        "id": "97mY6XVbrB7w"
      }
    },
    {
      "cell_type": "code",
      "source": [
        "#3. Scalling\n",
        "# rentang dan besaran yang berbeda yang dapat mempengaruhi proses pembelajaran\n",
        "\n",
        "from sklearn.preprocessing import MinMaxScaler\n",
        "\n",
        "# create scaler\n",
        "scaler = MinMaxScaler()\n",
        "\n",
        "# select numerical columns\n",
        "num_cols = [\"age\",\"bmi\",\"steps\",\"children\",\"charges\"]\n",
        "\n",
        "# fit and transform data\n",
        "df[num_cols] = scaler.fit_transform(df[num_cols])\n"
      ],
      "metadata": {
        "id": "xq3xF-pKMwU2"
      },
      "execution_count": null,
      "outputs": []
    },
    {
      "cell_type": "markdown",
      "source": [
        "Karena vaiabel diatas memiliki rentangan yang berbeda maka saya lakukan scaling normalization dengan technique minmax agar hasil scale yang diberikan tidak ada negatif/(0-1)"
      ],
      "metadata": {
        "id": "hxGLoPsbtW_K"
      }
    },
    {
      "cell_type": "code",
      "source": [
        "#4 Imbalance target\n",
        "# that one class has more records than the other.\n",
        "print(df[\"insuranceclaim\"].value_counts())\n",
        "print(df[\"insuranceclaim\"].value_counts(normalize=True))\n",
        "\n",
        "# Check the mean of each numerical column for each group of insurance claim\n",
        "print(df.groupby(\"insuranceclaim\").mean())\n",
        "\n",
        "# Check the correlation matrix of the numerical columns\n",
        "print(df.corr())"
      ],
      "metadata": {
        "colab": {
          "base_uri": "https://localhost:8080/"
        },
        "id": "8qqloj2SNrJN",
        "outputId": "5ebe70da-fbe3-4e30-aa47-55ad98fc5b23"
      },
      "execution_count": null,
      "outputs": [
        {
          "output_type": "stream",
          "name": "stdout",
          "text": [
            "1    783\n",
            "0    555\n",
            "Name: insuranceclaim, dtype: int64\n",
            "1    0.585202\n",
            "0    0.414798\n",
            "Name: insuranceclaim, dtype: float64\n",
            "                     age       sex       bmi     steps  children    smoker  \\\n",
            "insuranceclaim                                                               \n",
            "0               0.419781  0.486486  0.320731  0.506532  0.336216  0.045045   \n",
            "1               0.490255  0.518519  0.448619  0.208607  0.135888  0.318008   \n",
            "\n",
            "                  region   charges  \n",
            "insuranceclaim                      \n",
            "0               1.488288  0.122901  \n",
            "1               1.535121  0.244252  \n",
            "                     age       sex       bmi     steps  children    smoker  \\\n",
            "age             1.000000 -0.020856  0.109272 -0.167957  0.042469 -0.025019   \n",
            "sex            -0.020856  1.000000  0.046371 -0.039470  0.017163  0.076185   \n",
            "bmi             0.109272  0.046371  1.000000 -0.681149  0.012759  0.003750   \n",
            "steps          -0.167957 -0.039470 -0.681149  1.000000  0.055346 -0.267845   \n",
            "children        0.042469  0.017163  0.012759  0.055346  1.000000  0.007673   \n",
            "smoker         -0.025019  0.076185  0.003750 -0.267845  0.007673  1.000000   \n",
            "region          0.002127  0.004588  0.157566 -0.076483  0.016569 -0.002181   \n",
            "charges         0.299008  0.057292  0.198341 -0.305570  0.067998  0.787251   \n",
            "insuranceclaim  0.113723  0.031565  0.384198 -0.419514 -0.409526  0.333261   \n",
            "\n",
            "                  region   charges  insuranceclaim  \n",
            "age             0.002127  0.299008        0.113723  \n",
            "sex             0.004588  0.057292        0.031565  \n",
            "bmi             0.157566  0.198341        0.384198  \n",
            "steps          -0.076483 -0.305570       -0.419514  \n",
            "children        0.016569  0.067998       -0.409526  \n",
            "smoker         -0.002181  0.787251        0.333261  \n",
            "region          1.000000 -0.006208        0.020891  \n",
            "charges        -0.006208  1.000000        0.309418  \n",
            "insuranceclaim  0.020891  0.309418        1.000000  \n"
          ]
        }
      ]
    },
    {
      "cell_type": "markdown",
      "source": [
        "Dengan melihat hasil diatas saya mendapat informasi bahwa dataset termasuk kedalam kategori imbalance yang dimana hal ini juga dapat mempengaruhi performa model, beberapa cara untuk mengatasi hal ini adalah dengan resampling dan menggunakan algoritma yang berbeda. Namun pada kasus ini saya tidak akan menerapkannya karena dataset sudah fix dan algoritma yang digunakan juga fix yaitu neural network."
      ],
      "metadata": {
        "id": "r6X6Yo8dt05W"
      }
    },
    {
      "cell_type": "code",
      "source": [
        "df.head()"
      ],
      "metadata": {
        "colab": {
          "base_uri": "https://localhost:8080/",
          "height": 206
        },
        "id": "xBLNOb2fTcqm",
        "outputId": "69b64b30-9503-43fd-9e55-64d9f7af9183"
      },
      "execution_count": null,
      "outputs": [
        {
          "output_type": "execute_result",
          "data": {
            "text/plain": [
              "        age  sex       bmi     steps  children  smoker  region   charges  \\\n",
              "0  0.021739    0  0.321227  0.001284       0.0       1       3  0.251611   \n",
              "1  0.000000    1  0.479150  0.001141       0.2       0       2  0.009636   \n",
              "2  0.217391    1  0.458434  0.001284       0.6       0       2  0.053115   \n",
              "3  0.326087    1  0.181464  0.999857       0.0       0       1  0.333010   \n",
              "4  0.304348    1  0.347592  0.714693       0.0       0       1  0.043816   \n",
              "\n",
              "   insuranceclaim  \n",
              "0               1  \n",
              "1               1  \n",
              "2               0  \n",
              "3               0  \n",
              "4               1  "
            ],
            "text/html": [
              "\n",
              "  <div id=\"df-aa3d5d61-0ef4-4693-adec-5c4951916627\">\n",
              "    <div class=\"colab-df-container\">\n",
              "      <div>\n",
              "<style scoped>\n",
              "    .dataframe tbody tr th:only-of-type {\n",
              "        vertical-align: middle;\n",
              "    }\n",
              "\n",
              "    .dataframe tbody tr th {\n",
              "        vertical-align: top;\n",
              "    }\n",
              "\n",
              "    .dataframe thead th {\n",
              "        text-align: right;\n",
              "    }\n",
              "</style>\n",
              "<table border=\"1\" class=\"dataframe\">\n",
              "  <thead>\n",
              "    <tr style=\"text-align: right;\">\n",
              "      <th></th>\n",
              "      <th>age</th>\n",
              "      <th>sex</th>\n",
              "      <th>bmi</th>\n",
              "      <th>steps</th>\n",
              "      <th>children</th>\n",
              "      <th>smoker</th>\n",
              "      <th>region</th>\n",
              "      <th>charges</th>\n",
              "      <th>insuranceclaim</th>\n",
              "    </tr>\n",
              "  </thead>\n",
              "  <tbody>\n",
              "    <tr>\n",
              "      <th>0</th>\n",
              "      <td>0.021739</td>\n",
              "      <td>0</td>\n",
              "      <td>0.321227</td>\n",
              "      <td>0.001284</td>\n",
              "      <td>0.0</td>\n",
              "      <td>1</td>\n",
              "      <td>3</td>\n",
              "      <td>0.251611</td>\n",
              "      <td>1</td>\n",
              "    </tr>\n",
              "    <tr>\n",
              "      <th>1</th>\n",
              "      <td>0.000000</td>\n",
              "      <td>1</td>\n",
              "      <td>0.479150</td>\n",
              "      <td>0.001141</td>\n",
              "      <td>0.2</td>\n",
              "      <td>0</td>\n",
              "      <td>2</td>\n",
              "      <td>0.009636</td>\n",
              "      <td>1</td>\n",
              "    </tr>\n",
              "    <tr>\n",
              "      <th>2</th>\n",
              "      <td>0.217391</td>\n",
              "      <td>1</td>\n",
              "      <td>0.458434</td>\n",
              "      <td>0.001284</td>\n",
              "      <td>0.6</td>\n",
              "      <td>0</td>\n",
              "      <td>2</td>\n",
              "      <td>0.053115</td>\n",
              "      <td>0</td>\n",
              "    </tr>\n",
              "    <tr>\n",
              "      <th>3</th>\n",
              "      <td>0.326087</td>\n",
              "      <td>1</td>\n",
              "      <td>0.181464</td>\n",
              "      <td>0.999857</td>\n",
              "      <td>0.0</td>\n",
              "      <td>0</td>\n",
              "      <td>1</td>\n",
              "      <td>0.333010</td>\n",
              "      <td>0</td>\n",
              "    </tr>\n",
              "    <tr>\n",
              "      <th>4</th>\n",
              "      <td>0.304348</td>\n",
              "      <td>1</td>\n",
              "      <td>0.347592</td>\n",
              "      <td>0.714693</td>\n",
              "      <td>0.0</td>\n",
              "      <td>0</td>\n",
              "      <td>1</td>\n",
              "      <td>0.043816</td>\n",
              "      <td>1</td>\n",
              "    </tr>\n",
              "  </tbody>\n",
              "</table>\n",
              "</div>\n",
              "      <button class=\"colab-df-convert\" onclick=\"convertToInteractive('df-aa3d5d61-0ef4-4693-adec-5c4951916627')\"\n",
              "              title=\"Convert this dataframe to an interactive table.\"\n",
              "              style=\"display:none;\">\n",
              "        \n",
              "  <svg xmlns=\"http://www.w3.org/2000/svg\" height=\"24px\"viewBox=\"0 0 24 24\"\n",
              "       width=\"24px\">\n",
              "    <path d=\"M0 0h24v24H0V0z\" fill=\"none\"/>\n",
              "    <path d=\"M18.56 5.44l.94 2.06.94-2.06 2.06-.94-2.06-.94-.94-2.06-.94 2.06-2.06.94zm-11 1L8.5 8.5l.94-2.06 2.06-.94-2.06-.94L8.5 2.5l-.94 2.06-2.06.94zm10 10l.94 2.06.94-2.06 2.06-.94-2.06-.94-.94-2.06-.94 2.06-2.06.94z\"/><path d=\"M17.41 7.96l-1.37-1.37c-.4-.4-.92-.59-1.43-.59-.52 0-1.04.2-1.43.59L10.3 9.45l-7.72 7.72c-.78.78-.78 2.05 0 2.83L4 21.41c.39.39.9.59 1.41.59.51 0 1.02-.2 1.41-.59l7.78-7.78 2.81-2.81c.8-.78.8-2.07 0-2.86zM5.41 20L4 18.59l7.72-7.72 1.47 1.35L5.41 20z\"/>\n",
              "  </svg>\n",
              "      </button>\n",
              "      \n",
              "  <style>\n",
              "    .colab-df-container {\n",
              "      display:flex;\n",
              "      flex-wrap:wrap;\n",
              "      gap: 12px;\n",
              "    }\n",
              "\n",
              "    .colab-df-convert {\n",
              "      background-color: #E8F0FE;\n",
              "      border: none;\n",
              "      border-radius: 50%;\n",
              "      cursor: pointer;\n",
              "      display: none;\n",
              "      fill: #1967D2;\n",
              "      height: 32px;\n",
              "      padding: 0 0 0 0;\n",
              "      width: 32px;\n",
              "    }\n",
              "\n",
              "    .colab-df-convert:hover {\n",
              "      background-color: #E2EBFA;\n",
              "      box-shadow: 0px 1px 2px rgba(60, 64, 67, 0.3), 0px 1px 3px 1px rgba(60, 64, 67, 0.15);\n",
              "      fill: #174EA6;\n",
              "    }\n",
              "\n",
              "    [theme=dark] .colab-df-convert {\n",
              "      background-color: #3B4455;\n",
              "      fill: #D2E3FC;\n",
              "    }\n",
              "\n",
              "    [theme=dark] .colab-df-convert:hover {\n",
              "      background-color: #434B5C;\n",
              "      box-shadow: 0px 1px 3px 1px rgba(0, 0, 0, 0.15);\n",
              "      filter: drop-shadow(0px 1px 2px rgba(0, 0, 0, 0.3));\n",
              "      fill: #FFFFFF;\n",
              "    }\n",
              "  </style>\n",
              "\n",
              "      <script>\n",
              "        const buttonEl =\n",
              "          document.querySelector('#df-aa3d5d61-0ef4-4693-adec-5c4951916627 button.colab-df-convert');\n",
              "        buttonEl.style.display =\n",
              "          google.colab.kernel.accessAllowed ? 'block' : 'none';\n",
              "\n",
              "        async function convertToInteractive(key) {\n",
              "          const element = document.querySelector('#df-aa3d5d61-0ef4-4693-adec-5c4951916627');\n",
              "          const dataTable =\n",
              "            await google.colab.kernel.invokeFunction('convertToInteractive',\n",
              "                                                     [key], {});\n",
              "          if (!dataTable) return;\n",
              "\n",
              "          const docLinkHtml = 'Like what you see? Visit the ' +\n",
              "            '<a target=\"_blank\" href=https://colab.research.google.com/notebooks/data_table.ipynb>data table notebook</a>'\n",
              "            + ' to learn more about interactive tables.';\n",
              "          element.innerHTML = '';\n",
              "          dataTable['output_type'] = 'display_data';\n",
              "          await google.colab.output.renderOutput(dataTable, element);\n",
              "          const docLink = document.createElement('div');\n",
              "          docLink.innerHTML = docLinkHtml;\n",
              "          element.appendChild(docLink);\n",
              "        }\n",
              "      </script>\n",
              "    </div>\n",
              "  </div>\n",
              "  "
            ]
          },
          "metadata": {},
          "execution_count": 15
        }
      ]
    },
    {
      "cell_type": "markdown",
      "source": [
        "#"
      ],
      "metadata": {
        "id": "p7fUrtAt7fnI"
      }
    },
    {
      "cell_type": "markdown",
      "source": [
        "Berikut adalah preview dari dataset setalah dilakukan data preprocessing."
      ],
      "metadata": {
        "id": "SCVcGvrsubLM"
      }
    },
    {
      "cell_type": "code",
      "source": [
        "# Split the data into features and target\n",
        "df_input = df.drop(\"insuranceclaim\", axis=1)\n",
        "df_target = df[[\"insuranceclaim\"]]"
      ],
      "metadata": {
        "id": "yDoBnVO7X4Jw"
      },
      "execution_count": null,
      "outputs": []
    },
    {
      "cell_type": "markdown",
      "source": [
        "Proses diatas adalah pemisahan data yang akan digunakan sebagai input dan target, dimana target disini adalah variabel insuranceclaim. Dan untuk feature/variabel yang digunakan sebagai input adalah semua variabel di dataset selain variabel insuranceclaim."
      ],
      "metadata": {
        "id": "h3xCzvpTvUBe"
      }
    },
    {
      "cell_type": "code",
      "source": [
        "#preview data input\n",
        "df_input.head()"
      ],
      "metadata": {
        "colab": {
          "base_uri": "https://localhost:8080/",
          "height": 206
        },
        "id": "hxOU8smOevDG",
        "outputId": "af67ff17-0500-46ba-dd90-3d7ca154a8ba"
      },
      "execution_count": null,
      "outputs": [
        {
          "output_type": "execute_result",
          "data": {
            "text/plain": [
              "        age  sex       bmi     steps  children  smoker  region   charges\n",
              "0  0.021739    0  0.321227  0.001284       0.0       1       3  0.251611\n",
              "1  0.000000    1  0.479150  0.001141       0.2       0       2  0.009636\n",
              "2  0.217391    1  0.458434  0.001284       0.6       0       2  0.053115\n",
              "3  0.326087    1  0.181464  0.999857       0.0       0       1  0.333010\n",
              "4  0.304348    1  0.347592  0.714693       0.0       0       1  0.043816"
            ],
            "text/html": [
              "\n",
              "  <div id=\"df-9cb29aa6-ea6c-4095-b7cf-7b839b152f28\">\n",
              "    <div class=\"colab-df-container\">\n",
              "      <div>\n",
              "<style scoped>\n",
              "    .dataframe tbody tr th:only-of-type {\n",
              "        vertical-align: middle;\n",
              "    }\n",
              "\n",
              "    .dataframe tbody tr th {\n",
              "        vertical-align: top;\n",
              "    }\n",
              "\n",
              "    .dataframe thead th {\n",
              "        text-align: right;\n",
              "    }\n",
              "</style>\n",
              "<table border=\"1\" class=\"dataframe\">\n",
              "  <thead>\n",
              "    <tr style=\"text-align: right;\">\n",
              "      <th></th>\n",
              "      <th>age</th>\n",
              "      <th>sex</th>\n",
              "      <th>bmi</th>\n",
              "      <th>steps</th>\n",
              "      <th>children</th>\n",
              "      <th>smoker</th>\n",
              "      <th>region</th>\n",
              "      <th>charges</th>\n",
              "    </tr>\n",
              "  </thead>\n",
              "  <tbody>\n",
              "    <tr>\n",
              "      <th>0</th>\n",
              "      <td>0.021739</td>\n",
              "      <td>0</td>\n",
              "      <td>0.321227</td>\n",
              "      <td>0.001284</td>\n",
              "      <td>0.0</td>\n",
              "      <td>1</td>\n",
              "      <td>3</td>\n",
              "      <td>0.251611</td>\n",
              "    </tr>\n",
              "    <tr>\n",
              "      <th>1</th>\n",
              "      <td>0.000000</td>\n",
              "      <td>1</td>\n",
              "      <td>0.479150</td>\n",
              "      <td>0.001141</td>\n",
              "      <td>0.2</td>\n",
              "      <td>0</td>\n",
              "      <td>2</td>\n",
              "      <td>0.009636</td>\n",
              "    </tr>\n",
              "    <tr>\n",
              "      <th>2</th>\n",
              "      <td>0.217391</td>\n",
              "      <td>1</td>\n",
              "      <td>0.458434</td>\n",
              "      <td>0.001284</td>\n",
              "      <td>0.6</td>\n",
              "      <td>0</td>\n",
              "      <td>2</td>\n",
              "      <td>0.053115</td>\n",
              "    </tr>\n",
              "    <tr>\n",
              "      <th>3</th>\n",
              "      <td>0.326087</td>\n",
              "      <td>1</td>\n",
              "      <td>0.181464</td>\n",
              "      <td>0.999857</td>\n",
              "      <td>0.0</td>\n",
              "      <td>0</td>\n",
              "      <td>1</td>\n",
              "      <td>0.333010</td>\n",
              "    </tr>\n",
              "    <tr>\n",
              "      <th>4</th>\n",
              "      <td>0.304348</td>\n",
              "      <td>1</td>\n",
              "      <td>0.347592</td>\n",
              "      <td>0.714693</td>\n",
              "      <td>0.0</td>\n",
              "      <td>0</td>\n",
              "      <td>1</td>\n",
              "      <td>0.043816</td>\n",
              "    </tr>\n",
              "  </tbody>\n",
              "</table>\n",
              "</div>\n",
              "      <button class=\"colab-df-convert\" onclick=\"convertToInteractive('df-9cb29aa6-ea6c-4095-b7cf-7b839b152f28')\"\n",
              "              title=\"Convert this dataframe to an interactive table.\"\n",
              "              style=\"display:none;\">\n",
              "        \n",
              "  <svg xmlns=\"http://www.w3.org/2000/svg\" height=\"24px\"viewBox=\"0 0 24 24\"\n",
              "       width=\"24px\">\n",
              "    <path d=\"M0 0h24v24H0V0z\" fill=\"none\"/>\n",
              "    <path d=\"M18.56 5.44l.94 2.06.94-2.06 2.06-.94-2.06-.94-.94-2.06-.94 2.06-2.06.94zm-11 1L8.5 8.5l.94-2.06 2.06-.94-2.06-.94L8.5 2.5l-.94 2.06-2.06.94zm10 10l.94 2.06.94-2.06 2.06-.94-2.06-.94-.94-2.06-.94 2.06-2.06.94z\"/><path d=\"M17.41 7.96l-1.37-1.37c-.4-.4-.92-.59-1.43-.59-.52 0-1.04.2-1.43.59L10.3 9.45l-7.72 7.72c-.78.78-.78 2.05 0 2.83L4 21.41c.39.39.9.59 1.41.59.51 0 1.02-.2 1.41-.59l7.78-7.78 2.81-2.81c.8-.78.8-2.07 0-2.86zM5.41 20L4 18.59l7.72-7.72 1.47 1.35L5.41 20z\"/>\n",
              "  </svg>\n",
              "      </button>\n",
              "      \n",
              "  <style>\n",
              "    .colab-df-container {\n",
              "      display:flex;\n",
              "      flex-wrap:wrap;\n",
              "      gap: 12px;\n",
              "    }\n",
              "\n",
              "    .colab-df-convert {\n",
              "      background-color: #E8F0FE;\n",
              "      border: none;\n",
              "      border-radius: 50%;\n",
              "      cursor: pointer;\n",
              "      display: none;\n",
              "      fill: #1967D2;\n",
              "      height: 32px;\n",
              "      padding: 0 0 0 0;\n",
              "      width: 32px;\n",
              "    }\n",
              "\n",
              "    .colab-df-convert:hover {\n",
              "      background-color: #E2EBFA;\n",
              "      box-shadow: 0px 1px 2px rgba(60, 64, 67, 0.3), 0px 1px 3px 1px rgba(60, 64, 67, 0.15);\n",
              "      fill: #174EA6;\n",
              "    }\n",
              "\n",
              "    [theme=dark] .colab-df-convert {\n",
              "      background-color: #3B4455;\n",
              "      fill: #D2E3FC;\n",
              "    }\n",
              "\n",
              "    [theme=dark] .colab-df-convert:hover {\n",
              "      background-color: #434B5C;\n",
              "      box-shadow: 0px 1px 3px 1px rgba(0, 0, 0, 0.15);\n",
              "      filter: drop-shadow(0px 1px 2px rgba(0, 0, 0, 0.3));\n",
              "      fill: #FFFFFF;\n",
              "    }\n",
              "  </style>\n",
              "\n",
              "      <script>\n",
              "        const buttonEl =\n",
              "          document.querySelector('#df-9cb29aa6-ea6c-4095-b7cf-7b839b152f28 button.colab-df-convert');\n",
              "        buttonEl.style.display =\n",
              "          google.colab.kernel.accessAllowed ? 'block' : 'none';\n",
              "\n",
              "        async function convertToInteractive(key) {\n",
              "          const element = document.querySelector('#df-9cb29aa6-ea6c-4095-b7cf-7b839b152f28');\n",
              "          const dataTable =\n",
              "            await google.colab.kernel.invokeFunction('convertToInteractive',\n",
              "                                                     [key], {});\n",
              "          if (!dataTable) return;\n",
              "\n",
              "          const docLinkHtml = 'Like what you see? Visit the ' +\n",
              "            '<a target=\"_blank\" href=https://colab.research.google.com/notebooks/data_table.ipynb>data table notebook</a>'\n",
              "            + ' to learn more about interactive tables.';\n",
              "          element.innerHTML = '';\n",
              "          dataTable['output_type'] = 'display_data';\n",
              "          await google.colab.output.renderOutput(dataTable, element);\n",
              "          const docLink = document.createElement('div');\n",
              "          docLink.innerHTML = docLinkHtml;\n",
              "          element.appendChild(docLink);\n",
              "        }\n",
              "      </script>\n",
              "    </div>\n",
              "  </div>\n",
              "  "
            ]
          },
          "metadata": {},
          "execution_count": 17
        }
      ]
    },
    {
      "cell_type": "code",
      "source": [
        "#preview data target\n",
        "df_target.head()"
      ],
      "metadata": {
        "colab": {
          "base_uri": "https://localhost:8080/",
          "height": 206
        },
        "id": "I_KRccwZfKKI",
        "outputId": "ea9d5145-63b2-4999-ad43-e9f59e70051a"
      },
      "execution_count": null,
      "outputs": [
        {
          "output_type": "execute_result",
          "data": {
            "text/plain": [
              "   insuranceclaim\n",
              "0               1\n",
              "1               1\n",
              "2               0\n",
              "3               0\n",
              "4               1"
            ],
            "text/html": [
              "\n",
              "  <div id=\"df-eee945f8-8902-4124-84ff-0e2901530ceb\">\n",
              "    <div class=\"colab-df-container\">\n",
              "      <div>\n",
              "<style scoped>\n",
              "    .dataframe tbody tr th:only-of-type {\n",
              "        vertical-align: middle;\n",
              "    }\n",
              "\n",
              "    .dataframe tbody tr th {\n",
              "        vertical-align: top;\n",
              "    }\n",
              "\n",
              "    .dataframe thead th {\n",
              "        text-align: right;\n",
              "    }\n",
              "</style>\n",
              "<table border=\"1\" class=\"dataframe\">\n",
              "  <thead>\n",
              "    <tr style=\"text-align: right;\">\n",
              "      <th></th>\n",
              "      <th>insuranceclaim</th>\n",
              "    </tr>\n",
              "  </thead>\n",
              "  <tbody>\n",
              "    <tr>\n",
              "      <th>0</th>\n",
              "      <td>1</td>\n",
              "    </tr>\n",
              "    <tr>\n",
              "      <th>1</th>\n",
              "      <td>1</td>\n",
              "    </tr>\n",
              "    <tr>\n",
              "      <th>2</th>\n",
              "      <td>0</td>\n",
              "    </tr>\n",
              "    <tr>\n",
              "      <th>3</th>\n",
              "      <td>0</td>\n",
              "    </tr>\n",
              "    <tr>\n",
              "      <th>4</th>\n",
              "      <td>1</td>\n",
              "    </tr>\n",
              "  </tbody>\n",
              "</table>\n",
              "</div>\n",
              "      <button class=\"colab-df-convert\" onclick=\"convertToInteractive('df-eee945f8-8902-4124-84ff-0e2901530ceb')\"\n",
              "              title=\"Convert this dataframe to an interactive table.\"\n",
              "              style=\"display:none;\">\n",
              "        \n",
              "  <svg xmlns=\"http://www.w3.org/2000/svg\" height=\"24px\"viewBox=\"0 0 24 24\"\n",
              "       width=\"24px\">\n",
              "    <path d=\"M0 0h24v24H0V0z\" fill=\"none\"/>\n",
              "    <path d=\"M18.56 5.44l.94 2.06.94-2.06 2.06-.94-2.06-.94-.94-2.06-.94 2.06-2.06.94zm-11 1L8.5 8.5l.94-2.06 2.06-.94-2.06-.94L8.5 2.5l-.94 2.06-2.06.94zm10 10l.94 2.06.94-2.06 2.06-.94-2.06-.94-.94-2.06-.94 2.06-2.06.94z\"/><path d=\"M17.41 7.96l-1.37-1.37c-.4-.4-.92-.59-1.43-.59-.52 0-1.04.2-1.43.59L10.3 9.45l-7.72 7.72c-.78.78-.78 2.05 0 2.83L4 21.41c.39.39.9.59 1.41.59.51 0 1.02-.2 1.41-.59l7.78-7.78 2.81-2.81c.8-.78.8-2.07 0-2.86zM5.41 20L4 18.59l7.72-7.72 1.47 1.35L5.41 20z\"/>\n",
              "  </svg>\n",
              "      </button>\n",
              "      \n",
              "  <style>\n",
              "    .colab-df-container {\n",
              "      display:flex;\n",
              "      flex-wrap:wrap;\n",
              "      gap: 12px;\n",
              "    }\n",
              "\n",
              "    .colab-df-convert {\n",
              "      background-color: #E8F0FE;\n",
              "      border: none;\n",
              "      border-radius: 50%;\n",
              "      cursor: pointer;\n",
              "      display: none;\n",
              "      fill: #1967D2;\n",
              "      height: 32px;\n",
              "      padding: 0 0 0 0;\n",
              "      width: 32px;\n",
              "    }\n",
              "\n",
              "    .colab-df-convert:hover {\n",
              "      background-color: #E2EBFA;\n",
              "      box-shadow: 0px 1px 2px rgba(60, 64, 67, 0.3), 0px 1px 3px 1px rgba(60, 64, 67, 0.15);\n",
              "      fill: #174EA6;\n",
              "    }\n",
              "\n",
              "    [theme=dark] .colab-df-convert {\n",
              "      background-color: #3B4455;\n",
              "      fill: #D2E3FC;\n",
              "    }\n",
              "\n",
              "    [theme=dark] .colab-df-convert:hover {\n",
              "      background-color: #434B5C;\n",
              "      box-shadow: 0px 1px 3px 1px rgba(0, 0, 0, 0.15);\n",
              "      filter: drop-shadow(0px 1px 2px rgba(0, 0, 0, 0.3));\n",
              "      fill: #FFFFFF;\n",
              "    }\n",
              "  </style>\n",
              "\n",
              "      <script>\n",
              "        const buttonEl =\n",
              "          document.querySelector('#df-eee945f8-8902-4124-84ff-0e2901530ceb button.colab-df-convert');\n",
              "        buttonEl.style.display =\n",
              "          google.colab.kernel.accessAllowed ? 'block' : 'none';\n",
              "\n",
              "        async function convertToInteractive(key) {\n",
              "          const element = document.querySelector('#df-eee945f8-8902-4124-84ff-0e2901530ceb');\n",
              "          const dataTable =\n",
              "            await google.colab.kernel.invokeFunction('convertToInteractive',\n",
              "                                                     [key], {});\n",
              "          if (!dataTable) return;\n",
              "\n",
              "          const docLinkHtml = 'Like what you see? Visit the ' +\n",
              "            '<a target=\"_blank\" href=https://colab.research.google.com/notebooks/data_table.ipynb>data table notebook</a>'\n",
              "            + ' to learn more about interactive tables.';\n",
              "          element.innerHTML = '';\n",
              "          dataTable['output_type'] = 'display_data';\n",
              "          await google.colab.output.renderOutput(dataTable, element);\n",
              "          const docLink = document.createElement('div');\n",
              "          docLink.innerHTML = docLinkHtml;\n",
              "          element.appendChild(docLink);\n",
              "        }\n",
              "      </script>\n",
              "    </div>\n",
              "  </div>\n",
              "  "
            ]
          },
          "metadata": {},
          "execution_count": 18
        }
      ]
    },
    {
      "cell_type": "code",
      "source": [
        "from sklearn.model_selection import train_test_split\n",
        "\n",
        "# split data into train and test sets\n",
        "X_train, X_test, y_train, y_test = train_test_split(df_input, df_target, test_size=0.2, random_state=42)\n",
        "\n",
        "# split test set into test and validation sets\n",
        "X_test, X_val, y_test, y_val = train_test_split(X_test, y_test, test_size=0.5, random_state=42)\n",
        "\n",
        "#print the lenght after spliting\n",
        "print(\"Train set size:\", len(X_train))\n",
        "print(\"Test set size:\", len(X_test))\n",
        "print(\"Validation set size:\", len(X_val))"
      ],
      "metadata": {
        "colab": {
          "base_uri": "https://localhost:8080/"
        },
        "id": "0DcKLMDa-snr",
        "outputId": "166bc7b7-4b27-400f-c29e-f629c7964f8b"
      },
      "execution_count": null,
      "outputs": [
        {
          "output_type": "stream",
          "name": "stdout",
          "text": [
            "Train set size: 1070\n",
            "Test set size: 134\n",
            "Validation set size: 134\n"
          ]
        }
      ]
    },
    {
      "cell_type": "markdown",
      "source": [
        "Proses diatas adalah proses spliting data denngan ketentuan 80% training data, 10% validation, 10%test"
      ],
      "metadata": {
        "id": "pQJ37ud5wMOq"
      }
    },
    {
      "cell_type": "code",
      "source": [
        "#melihat dimensi dari input\n",
        "df_input.shape"
      ],
      "metadata": {
        "colab": {
          "base_uri": "https://localhost:8080/"
        },
        "id": "CMzH5CKX-wb1",
        "outputId": "2bb59d0f-2d29-4518-c769-c52cd08c2a31"
      },
      "execution_count": null,
      "outputs": [
        {
          "output_type": "execute_result",
          "data": {
            "text/plain": [
              "(1338, 8)"
            ]
          },
          "metadata": {},
          "execution_count": 20
        }
      ]
    },
    {
      "cell_type": "code",
      "source": [
        "!pip install tensorflow"
      ],
      "metadata": {
        "colab": {
          "base_uri": "https://localhost:8080/"
        },
        "id": "J4eniBqZEIEk",
        "outputId": "19d7acf7-e023-42a2-eef4-9582b01f8197"
      },
      "execution_count": null,
      "outputs": [
        {
          "output_type": "stream",
          "name": "stdout",
          "text": [
            "Looking in indexes: https://pypi.org/simple, https://us-python.pkg.dev/colab-wheels/public/simple/\n",
            "Requirement already satisfied: tensorflow in /usr/local/lib/python3.10/dist-packages (2.12.0)\n",
            "Requirement already satisfied: termcolor>=1.1.0 in /usr/local/lib/python3.10/dist-packages (from tensorflow) (2.3.0)\n",
            "Requirement already satisfied: protobuf!=4.21.0,!=4.21.1,!=4.21.2,!=4.21.3,!=4.21.4,!=4.21.5,<5.0.0dev,>=3.20.3 in /usr/local/lib/python3.10/dist-packages (from tensorflow) (3.20.3)\n",
            "Requirement already satisfied: libclang>=13.0.0 in /usr/local/lib/python3.10/dist-packages (from tensorflow) (16.0.0)\n",
            "Requirement already satisfied: wrapt<1.15,>=1.11.0 in /usr/local/lib/python3.10/dist-packages (from tensorflow) (1.14.1)\n",
            "Requirement already satisfied: h5py>=2.9.0 in /usr/local/lib/python3.10/dist-packages (from tensorflow) (3.8.0)\n",
            "Requirement already satisfied: packaging in /usr/local/lib/python3.10/dist-packages (from tensorflow) (23.1)\n",
            "Requirement already satisfied: jax>=0.3.15 in /usr/local/lib/python3.10/dist-packages (from tensorflow) (0.4.8)\n",
            "Requirement already satisfied: setuptools in /usr/local/lib/python3.10/dist-packages (from tensorflow) (67.7.2)\n",
            "Requirement already satisfied: tensorflow-io-gcs-filesystem>=0.23.1 in /usr/local/lib/python3.10/dist-packages (from tensorflow) (0.32.0)\n",
            "Requirement already satisfied: opt-einsum>=2.3.2 in /usr/local/lib/python3.10/dist-packages (from tensorflow) (3.3.0)\n",
            "Requirement already satisfied: gast<=0.4.0,>=0.2.1 in /usr/local/lib/python3.10/dist-packages (from tensorflow) (0.4.0)\n",
            "Requirement already satisfied: absl-py>=1.0.0 in /usr/local/lib/python3.10/dist-packages (from tensorflow) (1.4.0)\n",
            "Requirement already satisfied: six>=1.12.0 in /usr/local/lib/python3.10/dist-packages (from tensorflow) (1.16.0)\n",
            "Requirement already satisfied: tensorflow-estimator<2.13,>=2.12.0 in /usr/local/lib/python3.10/dist-packages (from tensorflow) (2.12.0)\n",
            "Requirement already satisfied: numpy<1.24,>=1.22 in /usr/local/lib/python3.10/dist-packages (from tensorflow) (1.22.4)\n",
            "Requirement already satisfied: keras<2.13,>=2.12.0 in /usr/local/lib/python3.10/dist-packages (from tensorflow) (2.12.0)\n",
            "Requirement already satisfied: google-pasta>=0.1.1 in /usr/local/lib/python3.10/dist-packages (from tensorflow) (0.2.0)\n",
            "Requirement already satisfied: tensorboard<2.13,>=2.12 in /usr/local/lib/python3.10/dist-packages (from tensorflow) (2.12.2)\n",
            "Requirement already satisfied: typing-extensions>=3.6.6 in /usr/local/lib/python3.10/dist-packages (from tensorflow) (4.5.0)\n",
            "Requirement already satisfied: flatbuffers>=2.0 in /usr/local/lib/python3.10/dist-packages (from tensorflow) (23.3.3)\n",
            "Requirement already satisfied: grpcio<2.0,>=1.24.3 in /usr/local/lib/python3.10/dist-packages (from tensorflow) (1.54.0)\n",
            "Requirement already satisfied: astunparse>=1.6.0 in /usr/local/lib/python3.10/dist-packages (from tensorflow) (1.6.3)\n",
            "Requirement already satisfied: wheel<1.0,>=0.23.0 in /usr/local/lib/python3.10/dist-packages (from astunparse>=1.6.0->tensorflow) (0.40.0)\n",
            "Requirement already satisfied: scipy>=1.7 in /usr/local/lib/python3.10/dist-packages (from jax>=0.3.15->tensorflow) (1.10.1)\n",
            "Requirement already satisfied: ml-dtypes>=0.0.3 in /usr/local/lib/python3.10/dist-packages (from jax>=0.3.15->tensorflow) (0.1.0)\n",
            "Requirement already satisfied: markdown>=2.6.8 in /usr/local/lib/python3.10/dist-packages (from tensorboard<2.13,>=2.12->tensorflow) (3.4.3)\n",
            "Requirement already satisfied: google-auth<3,>=1.6.3 in /usr/local/lib/python3.10/dist-packages (from tensorboard<2.13,>=2.12->tensorflow) (2.17.3)\n",
            "Requirement already satisfied: tensorboard-plugin-wit>=1.6.0 in /usr/local/lib/python3.10/dist-packages (from tensorboard<2.13,>=2.12->tensorflow) (1.8.1)\n",
            "Requirement already satisfied: requests<3,>=2.21.0 in /usr/local/lib/python3.10/dist-packages (from tensorboard<2.13,>=2.12->tensorflow) (2.27.1)\n",
            "Requirement already satisfied: google-auth-oauthlib<1.1,>=0.5 in /usr/local/lib/python3.10/dist-packages (from tensorboard<2.13,>=2.12->tensorflow) (1.0.0)\n",
            "Requirement already satisfied: werkzeug>=1.0.1 in /usr/local/lib/python3.10/dist-packages (from tensorboard<2.13,>=2.12->tensorflow) (2.3.0)\n",
            "Requirement already satisfied: tensorboard-data-server<0.8.0,>=0.7.0 in /usr/local/lib/python3.10/dist-packages (from tensorboard<2.13,>=2.12->tensorflow) (0.7.0)\n",
            "Requirement already satisfied: pyasn1-modules>=0.2.1 in /usr/local/lib/python3.10/dist-packages (from google-auth<3,>=1.6.3->tensorboard<2.13,>=2.12->tensorflow) (0.3.0)\n",
            "Requirement already satisfied: cachetools<6.0,>=2.0.0 in /usr/local/lib/python3.10/dist-packages (from google-auth<3,>=1.6.3->tensorboard<2.13,>=2.12->tensorflow) (5.3.0)\n",
            "Requirement already satisfied: rsa<5,>=3.1.4 in /usr/local/lib/python3.10/dist-packages (from google-auth<3,>=1.6.3->tensorboard<2.13,>=2.12->tensorflow) (4.9)\n",
            "Requirement already satisfied: requests-oauthlib>=0.7.0 in /usr/local/lib/python3.10/dist-packages (from google-auth-oauthlib<1.1,>=0.5->tensorboard<2.13,>=2.12->tensorflow) (1.3.1)\n",
            "Requirement already satisfied: charset-normalizer~=2.0.0 in /usr/local/lib/python3.10/dist-packages (from requests<3,>=2.21.0->tensorboard<2.13,>=2.12->tensorflow) (2.0.12)\n",
            "Requirement already satisfied: certifi>=2017.4.17 in /usr/local/lib/python3.10/dist-packages (from requests<3,>=2.21.0->tensorboard<2.13,>=2.12->tensorflow) (2022.12.7)\n",
            "Requirement already satisfied: idna<4,>=2.5 in /usr/local/lib/python3.10/dist-packages (from requests<3,>=2.21.0->tensorboard<2.13,>=2.12->tensorflow) (3.4)\n",
            "Requirement already satisfied: urllib3<1.27,>=1.21.1 in /usr/local/lib/python3.10/dist-packages (from requests<3,>=2.21.0->tensorboard<2.13,>=2.12->tensorflow) (1.26.15)\n",
            "Requirement already satisfied: MarkupSafe>=2.1.1 in /usr/local/lib/python3.10/dist-packages (from werkzeug>=1.0.1->tensorboard<2.13,>=2.12->tensorflow) (2.1.2)\n",
            "Requirement already satisfied: pyasn1<0.6.0,>=0.4.6 in /usr/local/lib/python3.10/dist-packages (from pyasn1-modules>=0.2.1->google-auth<3,>=1.6.3->tensorboard<2.13,>=2.12->tensorflow) (0.5.0)\n",
            "Requirement already satisfied: oauthlib>=3.0.0 in /usr/local/lib/python3.10/dist-packages (from requests-oauthlib>=0.7.0->google-auth-oauthlib<1.1,>=0.5->tensorboard<2.13,>=2.12->tensorflow) (3.2.2)\n"
          ]
        }
      ]
    },
    {
      "cell_type": "markdown",
      "source": [
        "Pembuatan model ANN dari no 1c"
      ],
      "metadata": {
        "id": "fEYGUjzp9K3E"
      }
    },
    {
      "cell_type": "code",
      "source": [
        "import keras\n",
        "from tensorflow.keras.models import Sequential\n",
        "import tensorflow as tf\n",
        "\n",
        "#number of feature\n",
        "n = 8\n",
        "\n",
        "num_class = 1\n",
        "\n",
        "model1c = keras.models.Sequential(name=\"my_custom_model_1c\")\n",
        "model1c.add(tf.keras.Input(shape=(n,)))\n",
        "model1c.add(keras.layers.core.Dense(2*n, activation='relu', name=\"Hiddenlayer\"))\n",
        "model1c.add(keras.layers.core.Dense(2*n,   activation='relu', name=\"Hiddenlayer2\"))\n",
        "model1c.add(keras.layers.core.Dense(num_class,   activation='sigmoid', name=\"Outputlayer\"))\n",
        "model1c.compile(optimizer='sgd', loss='binary_crossentropy', metrics=['accuracy'])\n",
        "\n",
        "print(model1c.summary())"
      ],
      "metadata": {
        "colab": {
          "base_uri": "https://localhost:8080/"
        },
        "id": "F8Fg-xMnFuKZ",
        "outputId": "26aeae0b-dec3-4c9d-b5ca-6b69a9fab77a"
      },
      "execution_count": null,
      "outputs": [
        {
          "output_type": "stream",
          "name": "stdout",
          "text": [
            "Model: \"my_custom_model_1c\"\n",
            "_________________________________________________________________\n",
            " Layer (type)                Output Shape              Param #   \n",
            "=================================================================\n",
            " Hiddenlayer (Dense)         (None, 16)                144       \n",
            "                                                                 \n",
            " Hiddenlayer2 (Dense)        (None, 16)                272       \n",
            "                                                                 \n",
            " Outputlayer (Dense)         (None, 1)                 17        \n",
            "                                                                 \n",
            "=================================================================\n",
            "Total params: 433\n",
            "Trainable params: 433\n",
            "Non-trainable params: 0\n",
            "_________________________________________________________________\n",
            "None\n"
          ]
        }
      ]
    },
    {
      "cell_type": "markdown",
      "source": [
        "Berikut adalah pembuatan model ANN. Model terdiri dari 2 hiden layer dan 1 input&output layer. Ketentuan input dan neuron:\n",
        "- Pada layer input = n (jumlah feature) = 8\n",
        "- hiden layer1 = 2*n\n",
        "- hiden layer2 = 2*n\n",
        "- outpun layer = num_class (1 karena hanya menentukan 1/0 kita bisa menggunakan output >= 0.5 sebagai 1 dan <0.5 sebagai 0)"
      ],
      "metadata": {
        "id": "cdJKpnNGwpnU"
      }
    },
    {
      "cell_type": "code",
      "source": [
        "hist = model1c.fit(X_train, y_train, epochs=10, validation_data=(X_val, y_val))\n",
        "loss, acc1c = model1c.evaluate(X_test, y_test)\n",
        "print('\\nAccuracy 1c:', acc1c)"
      ],
      "metadata": {
        "colab": {
          "base_uri": "https://localhost:8080/"
        },
        "id": "NlR-sjg1PMxM",
        "outputId": "99f25386-a750-4126-81ef-09f98c8705cc"
      },
      "execution_count": null,
      "outputs": [
        {
          "output_type": "stream",
          "name": "stdout",
          "text": [
            "Epoch 1/10\n",
            "34/34 [==============================] - 1s 10ms/step - loss: 0.7337 - accuracy: 0.3935 - val_loss: 0.7248 - val_accuracy: 0.4478\n",
            "Epoch 2/10\n",
            "34/34 [==============================] - 0s 3ms/step - loss: 0.7124 - accuracy: 0.4318 - val_loss: 0.7061 - val_accuracy: 0.4627\n",
            "Epoch 3/10\n",
            "34/34 [==============================] - 0s 3ms/step - loss: 0.6987 - accuracy: 0.4692 - val_loss: 0.6940 - val_accuracy: 0.5299\n",
            "Epoch 4/10\n",
            "34/34 [==============================] - 0s 3ms/step - loss: 0.6900 - accuracy: 0.5168 - val_loss: 0.6864 - val_accuracy: 0.5373\n",
            "Epoch 5/10\n",
            "34/34 [==============================] - 0s 3ms/step - loss: 0.6837 - accuracy: 0.5336 - val_loss: 0.6810 - val_accuracy: 0.5448\n",
            "Epoch 6/10\n",
            "34/34 [==============================] - 0s 3ms/step - loss: 0.6788 - accuracy: 0.5551 - val_loss: 0.6769 - val_accuracy: 0.5672\n",
            "Epoch 7/10\n",
            "34/34 [==============================] - 0s 3ms/step - loss: 0.6747 - accuracy: 0.5626 - val_loss: 0.6733 - val_accuracy: 0.5970\n",
            "Epoch 8/10\n",
            "34/34 [==============================] - 0s 3ms/step - loss: 0.6711 - accuracy: 0.5738 - val_loss: 0.6701 - val_accuracy: 0.5970\n",
            "Epoch 9/10\n",
            "34/34 [==============================] - 0s 3ms/step - loss: 0.6678 - accuracy: 0.5785 - val_loss: 0.6673 - val_accuracy: 0.6045\n",
            "Epoch 10/10\n",
            "34/34 [==============================] - 0s 3ms/step - loss: 0.6645 - accuracy: 0.5813 - val_loss: 0.6645 - val_accuracy: 0.6045\n",
            "5/5 [==============================] - 0s 4ms/step - loss: 0.6572 - accuracy: 0.5970\n",
            "\n",
            "Accuracy 1c: 0.5970149040222168\n"
          ]
        }
      ]
    },
    {
      "cell_type": "markdown",
      "source": [
        "Dengan menggunakan informasi dan hyperparameter dari soal dan default(sgd) sehingga diperoleh nilai accuracy seperti diatas.\n"
      ],
      "metadata": {
        "id": "sD6QywZHy4zn"
      }
    },
    {
      "cell_type": "markdown",
      "source": [
        "Tunning hyperparameter:<br>\n",
        "hyperparameters in neural networks: Number of layers, Number of neurons, Activation function, Learning rate,  Epochs, Optimizer, mommentum, and so on.<br><br>\n",
        "Dan pada 1d saya melakukan tunning hyperparameter pada lr, momentum,number of layer, number of neurons,epoch."
      ],
      "metadata": {
        "id": "21oPyIcTccUJ"
      }
    },
    {
      "cell_type": "code",
      "source": [
        "from keras.optimizers import SGD\n",
        "\n",
        "n = 8\n",
        "\n",
        "num_class = 1\n",
        "sgd_optimizer = SGD(lr=0.1, momentum=0.9)\n",
        "model1d = keras.models.Sequential(name=\"my_custom_model_1d\")\n",
        "model1d.add(tf.keras.Input(shape=(n,)))\n",
        "model1d.add(keras.layers.core.Dense(2*n*5, activation='relu', name=\"Hiddenlayer\"))\n",
        "model1d.add(keras.layers.core.Dense(2*n*5,   activation='relu', name=\"Hiddenlayer2\"))\n",
        "model1d.add(keras.layers.core.Dense(2*n*5,   activation='relu', name=\"Hiddenlayer3\"))\n",
        "model1d.add(keras.layers.core.Dense(num_class,   activation='sigmoid', name=\"Outputlayer\"))\n",
        "model1d.compile(optimizer=sgd_optimizer, loss='binary_crossentropy', metrics=['accuracy'])\n",
        "\n",
        "print(model1d.summary())"
      ],
      "metadata": {
        "colab": {
          "base_uri": "https://localhost:8080/"
        },
        "id": "s-uuaDsjbAL8",
        "outputId": "fae259db-d1bb-4161-b1c7-b97ccfd41157"
      },
      "execution_count": null,
      "outputs": [
        {
          "output_type": "stream",
          "name": "stdout",
          "text": [
            "Model: \"my_custom_model_1d\"\n",
            "_________________________________________________________________\n",
            " Layer (type)                Output Shape              Param #   \n",
            "=================================================================\n",
            " Hiddenlayer (Dense)         (None, 80)                720       \n",
            "                                                                 \n",
            " Hiddenlayer2 (Dense)        (None, 80)                6480      \n",
            "                                                                 \n",
            " Hiddenlayer3 (Dense)        (None, 80)                6480      \n",
            "                                                                 \n",
            " Outputlayer (Dense)         (None, 1)                 81        \n",
            "                                                                 \n",
            "=================================================================\n",
            "Total params: 13,761\n",
            "Trainable params: 13,761\n",
            "Non-trainable params: 0\n",
            "_________________________________________________________________\n",
            "None\n"
          ]
        },
        {
          "output_type": "stream",
          "name": "stderr",
          "text": [
            "/usr/local/lib/python3.10/dist-packages/keras/optimizers/legacy/gradient_descent.py:114: UserWarning: The `lr` argument is deprecated, use `learning_rate` instead.\n",
            "  super().__init__(name, **kwargs)\n"
          ]
        }
      ]
    },
    {
      "cell_type": "code",
      "source": [
        "hist2 = model1d.fit(X_train, y_train, epochs=16, validation_data=(X_val, y_val))\n",
        "loss, acc1d = model1d.evaluate(X_test, y_test)\n",
        "\n",
        "print('\\nAccuracy 1c:', acc1c)\n",
        "print('\\nAccuracy 1d:', acc1d)"
      ],
      "metadata": {
        "colab": {
          "base_uri": "https://localhost:8080/"
        },
        "id": "tKlmIuTebTRH",
        "outputId": "3dda2630-0ce4-46ef-c4a7-7ae69ad1fcb3"
      },
      "execution_count": null,
      "outputs": [
        {
          "output_type": "stream",
          "name": "stdout",
          "text": [
            "Epoch 1/16\n",
            "34/34 [==============================] - 1s 8ms/step - loss: 0.6075 - accuracy: 0.6832 - val_loss: 0.6739 - val_accuracy: 0.6119\n",
            "Epoch 2/16\n",
            "34/34 [==============================] - 0s 3ms/step - loss: 0.5092 - accuracy: 0.7383 - val_loss: 0.3963 - val_accuracy: 0.8284\n",
            "Epoch 3/16\n",
            "34/34 [==============================] - 0s 3ms/step - loss: 0.3941 - accuracy: 0.8355 - val_loss: 0.4637 - val_accuracy: 0.7836\n",
            "Epoch 4/16\n",
            "34/34 [==============================] - 0s 3ms/step - loss: 0.4036 - accuracy: 0.8224 - val_loss: 0.3473 - val_accuracy: 0.8731\n",
            "Epoch 5/16\n",
            "34/34 [==============================] - 0s 3ms/step - loss: 0.3398 - accuracy: 0.8589 - val_loss: 0.3321 - val_accuracy: 0.8507\n",
            "Epoch 6/16\n",
            "34/34 [==============================] - 0s 3ms/step - loss: 0.3761 - accuracy: 0.8505 - val_loss: 0.3417 - val_accuracy: 0.8806\n",
            "Epoch 7/16\n",
            "34/34 [==============================] - 0s 3ms/step - loss: 0.3501 - accuracy: 0.8607 - val_loss: 0.3786 - val_accuracy: 0.8209\n",
            "Epoch 8/16\n",
            "34/34 [==============================] - 0s 4ms/step - loss: 0.3164 - accuracy: 0.8720 - val_loss: 0.3803 - val_accuracy: 0.8284\n",
            "Epoch 9/16\n",
            "34/34 [==============================] - 0s 5ms/step - loss: 0.3310 - accuracy: 0.8673 - val_loss: 0.2907 - val_accuracy: 0.8881\n",
            "Epoch 10/16\n",
            "34/34 [==============================] - 0s 4ms/step - loss: 0.3040 - accuracy: 0.8841 - val_loss: 0.3007 - val_accuracy: 0.8731\n",
            "Epoch 11/16\n",
            "34/34 [==============================] - 0s 3ms/step - loss: 0.2975 - accuracy: 0.8692 - val_loss: 0.2817 - val_accuracy: 0.8433\n",
            "Epoch 12/16\n",
            "34/34 [==============================] - 0s 3ms/step - loss: 0.2987 - accuracy: 0.8617 - val_loss: 0.2869 - val_accuracy: 0.8731\n",
            "Epoch 13/16\n",
            "34/34 [==============================] - 0s 3ms/step - loss: 0.2729 - accuracy: 0.8879 - val_loss: 0.2864 - val_accuracy: 0.8507\n",
            "Epoch 14/16\n",
            "34/34 [==============================] - 0s 4ms/step - loss: 0.2684 - accuracy: 0.8888 - val_loss: 0.2826 - val_accuracy: 0.8881\n",
            "Epoch 15/16\n",
            "34/34 [==============================] - 0s 3ms/step - loss: 0.2862 - accuracy: 0.8748 - val_loss: 0.3360 - val_accuracy: 0.8507\n",
            "Epoch 16/16\n",
            "34/34 [==============================] - 0s 3ms/step - loss: 0.2999 - accuracy: 0.8785 - val_loss: 0.2669 - val_accuracy: 0.8731\n",
            "5/5 [==============================] - 0s 3ms/step - loss: 0.3210 - accuracy: 0.8881\n",
            "\n",
            "Accuracy 1c: 0.5970149040222168\n",
            "\n",
            "Accuracy 1d: 0.888059675693512\n"
          ]
        }
      ]
    },
    {
      "cell_type": "markdown",
      "source": [
        "Setelah melakukan tunning hasil accuracy model semakin meningkat dari accuracy sebelum dilakukan tunning"
      ],
      "metadata": {
        "id": "vn41NlXnixMg"
      }
    },
    {
      "cell_type": "markdown",
      "source": [
        "Evaluasi MENGGUNAKAN PRECISSION, RECALL, F1-SCORE PADA NOMOR 1C"
      ],
      "metadata": {
        "id": "8ueP5fvHzVtM"
      }
    },
    {
      "cell_type": "code",
      "source": [
        "model1c.compile(optimizer='sgd', loss='binary_crossentropy', metrics=[tf.keras.metrics.Precision(), tf.keras.metrics.Recall()])"
      ],
      "metadata": {
        "id": "0cLH9iTljM-J"
      },
      "execution_count": null,
      "outputs": []
    },
    {
      "cell_type": "code",
      "source": [
        "hist3 = model1c.fit(X_train, y_train, epochs=10, validation_data=(X_val, y_val))\n",
        "\n",
        "loss, prec1c, rec1c = model1c.evaluate(X_test, y_test)\n",
        "print('\\nAccuracy:', acc1c)\n",
        "print('F1-score:', 2*(prec1c*rec1c)/(prec1c+rec1c))\n",
        "print('Precision:', prec1c)\n",
        "print('Recall:', rec1c)"
      ],
      "metadata": {
        "colab": {
          "base_uri": "https://localhost:8080/"
        },
        "id": "wQgWYmCIk3Kq",
        "outputId": "346427b9-3c19-4344-af31-02701a618d6e"
      },
      "execution_count": null,
      "outputs": [
        {
          "output_type": "stream",
          "name": "stdout",
          "text": [
            "Epoch 1/10\n",
            "34/34 [==============================] - 0s 4ms/step - loss: 0.6223 - precision_1: 0.5862 - recall_1: 1.0000 - val_loss: 0.6205 - val_precision_1: 0.6045 - val_recall_1: 1.0000\n",
            "Epoch 2/10\n",
            "34/34 [==============================] - 0s 3ms/step - loss: 0.6173 - precision_1: 0.5881 - recall_1: 0.9984 - val_loss: 0.6154 - val_precision_1: 0.6183 - val_recall_1: 1.0000\n",
            "Epoch 3/10\n",
            "34/34 [==============================] - 0s 3ms/step - loss: 0.6123 - precision_1: 0.5959 - recall_1: 0.9936 - val_loss: 0.6105 - val_precision_1: 0.6299 - val_recall_1: 0.9877\n",
            "Epoch 4/10\n",
            "34/34 [==============================] - 0s 3ms/step - loss: 0.6076 - precision_1: 0.6010 - recall_1: 0.9855 - val_loss: 0.6057 - val_precision_1: 0.6475 - val_recall_1: 0.9753\n",
            "Epoch 5/10\n",
            "34/34 [==============================] - 0s 3ms/step - loss: 0.6024 - precision_1: 0.6137 - recall_1: 0.9678 - val_loss: 0.6010 - val_precision_1: 0.6529 - val_recall_1: 0.9753\n",
            "Epoch 6/10\n",
            "34/34 [==============================] - 0s 3ms/step - loss: 0.5973 - precision_1: 0.6278 - recall_1: 0.9518 - val_loss: 0.5962 - val_precision_1: 0.6496 - val_recall_1: 0.9383\n",
            "Epoch 7/10\n",
            "34/34 [==============================] - 0s 3ms/step - loss: 0.5920 - precision_1: 0.6419 - recall_1: 0.9453 - val_loss: 0.5913 - val_precision_1: 0.6609 - val_recall_1: 0.9383\n",
            "Epoch 8/10\n",
            "34/34 [==============================] - 0s 3ms/step - loss: 0.5865 - precision_1: 0.6595 - recall_1: 0.9341 - val_loss: 0.5862 - val_precision_1: 0.6607 - val_recall_1: 0.9136\n",
            "Epoch 9/10\n",
            "34/34 [==============================] - 0s 3ms/step - loss: 0.5808 - precision_1: 0.6674 - recall_1: 0.9293 - val_loss: 0.5811 - val_precision_1: 0.6636 - val_recall_1: 0.8765\n",
            "Epoch 10/10\n",
            "34/34 [==============================] - 0s 3ms/step - loss: 0.5750 - precision_1: 0.6753 - recall_1: 0.9228 - val_loss: 0.5760 - val_precision_1: 0.6698 - val_recall_1: 0.8765\n",
            "5/5 [==============================] - 0s 3ms/step - loss: 0.5829 - precision_1: 0.6602 - recall_1: 0.8500\n",
            "\n",
            "Accuracy: 0.5970149040222168\n",
            "F1-score: 0.7431693977537751\n",
            "Precision: 0.6601941585540771\n",
            "Recall: 0.8500000238418579\n"
          ]
        }
      ]
    },
    {
      "cell_type": "markdown",
      "source": [
        "Penjelasan mengenai hasil evaluasi dengan menggunakan metrics nilai accuracy, precision, recall dan F1-Score pada model1c:<br>\n",
        "- Akurasi adalah rasio antara jumlah prediksi yang benar dan jumlah total prediksi. Nilai akurasi yang tinggi menunjukkan bahwa model dapat mengklasifikasikan data dengan tepat. Nilai akurasi 0.597 berarti bahwa model dapat mengklasifikasikan sekitar 60% data dengan benar, dan salah sekitar 40%. Ini menunjukkan bahwa model memiliki performa yang kurang baik dan perlu ditingkatkan.\n",
        "- F1-score adalah rata-rata harmonik dari presisi dan recall. Nilai f1-score yang tinggi menunjukkan bahwa model memiliki keseimbangan yang baik antara presisi dan recall. Nilai f1-score 0.743 berarti bahwa model memiliki keseimbangan yang cukup baik antara presisi dan recall, tetapi masih ada ruang untuk perbaikan.\n",
        "- Presisi adalah rasio antara jumlah prediksi positif yang benar dan jumlah total prediksi positif. Nilai presisi yang tinggi menunjukkan bahwa model dapat menghindari kesalahan (false positive). Nilai presisi 0.6 berarti bahwa model dapat menghindari sekitar 66% kesalahan positif palsu, tetapi masih membuat sekitar 34% kesalahan (false positive).\n",
        "- Recall adalah rasio antara jumlah prediksi positif yang benar dan jumlah total data positif. Nilai recall yang tinggi menunjukkan bahwa model dapat mengenali sebagian besar data positif. Nilai recall 0.8500 berarti bahwa model dapat mengenali sekitar 85% data positif, tetapi masih melewatkan sekitar 15% data positif.\n",
        "\n",
        "Dari hasil di atas, dapat disimpulkan bahwa model memiliki performa yang kurang baik dalam hal akurasi, tetapi memiliki keseimbangan yang cukup baik antara presisi dan recall. Model cenderung lebih sensitif dalam mengenali data positif daripada menghindari kesalahan (false positive)."
      ],
      "metadata": {
        "id": "RqvJIH8Luct6"
      }
    },
    {
      "cell_type": "markdown",
      "source": [
        "EVALUASI MENGGUNAKAN PRECISSION, RECALL, F1-SCORE PADA NOMOR 1D"
      ],
      "metadata": {
        "id": "MB6mY3qtnZyk"
      }
    },
    {
      "cell_type": "code",
      "source": [
        "\n",
        "model1d.compile(optimizer=sgd_optimizer, loss='binary_crossentropy', metrics=[tf.keras.metrics.Precision(), tf.keras.metrics.Recall()])\n"
      ],
      "metadata": {
        "id": "JAuOQ-cKvS3l"
      },
      "execution_count": null,
      "outputs": []
    },
    {
      "cell_type": "code",
      "source": [
        "hist4 = model1d.fit(X_train, y_train, epochs=16, validation_data=(X_val, y_val))\n",
        "\n",
        "loss, prec1d, rec1d = model1d.evaluate(X_test, y_test)\n",
        "print('\\nAccuracy:', acc1d)\n",
        "print('F1-score:', 2*(prec1d*rec1d)/(prec1d+rec1d))\n",
        "print('Precision:', prec1d)\n",
        "print('Recall:', rec1d)"
      ],
      "metadata": {
        "colab": {
          "base_uri": "https://localhost:8080/"
        },
        "id": "oeEkB_rQzTjv",
        "outputId": "be9099b5-e216-45fa-a191-3f8c414a37b9"
      },
      "execution_count": null,
      "outputs": [
        {
          "output_type": "stream",
          "name": "stdout",
          "text": [
            "Epoch 1/16\n",
            "34/34 [==============================] - 1s 14ms/step - loss: 0.2836 - precision_2: 0.9199 - recall_2: 0.8682 - val_loss: 0.2524 - val_precision_2: 0.9589 - val_recall_2: 0.8642\n",
            "Epoch 2/16\n",
            "34/34 [==============================] - 0s 4ms/step - loss: 0.2802 - precision_2: 0.9021 - recall_2: 0.8891 - val_loss: 0.3124 - val_precision_2: 0.9697 - val_recall_2: 0.7901\n",
            "Epoch 3/16\n",
            "34/34 [==============================] - 0s 4ms/step - loss: 0.2537 - precision_2: 0.9165 - recall_2: 0.9003 - val_loss: 0.3262 - val_precision_2: 0.9545 - val_recall_2: 0.7778\n",
            "Epoch 4/16\n",
            "34/34 [==============================] - 0s 4ms/step - loss: 0.2789 - precision_2: 0.9136 - recall_2: 0.8666 - val_loss: 0.2726 - val_precision_2: 0.9559 - val_recall_2: 0.8025\n",
            "Epoch 5/16\n",
            "34/34 [==============================] - 0s 5ms/step - loss: 0.2536 - precision_2: 0.9168 - recall_2: 0.8859 - val_loss: 0.2844 - val_precision_2: 0.9114 - val_recall_2: 0.8889\n",
            "Epoch 6/16\n",
            "34/34 [==============================] - 0s 5ms/step - loss: 0.3351 - precision_2: 0.8956 - recall_2: 0.8553 - val_loss: 0.2633 - val_precision_2: 0.9333 - val_recall_2: 0.8642\n",
            "Epoch 7/16\n",
            "34/34 [==============================] - 0s 6ms/step - loss: 0.2506 - precision_2: 0.9181 - recall_2: 0.8826 - val_loss: 0.2543 - val_precision_2: 0.9351 - val_recall_2: 0.8889\n",
            "Epoch 8/16\n",
            "34/34 [==============================] - 0s 5ms/step - loss: 0.2431 - precision_2: 0.9310 - recall_2: 0.8891 - val_loss: 0.2784 - val_precision_2: 0.9178 - val_recall_2: 0.8272\n",
            "Epoch 9/16\n",
            "34/34 [==============================] - 0s 5ms/step - loss: 0.2328 - precision_2: 0.9100 - recall_2: 0.9100 - val_loss: 0.3268 - val_precision_2: 0.8588 - val_recall_2: 0.9012\n",
            "Epoch 10/16\n",
            "34/34 [==============================] - 0s 4ms/step - loss: 0.3469 - precision_2: 0.8991 - recall_2: 0.8312 - val_loss: 0.3024 - val_precision_2: 0.9114 - val_recall_2: 0.8889\n",
            "Epoch 11/16\n",
            "34/34 [==============================] - 0s 4ms/step - loss: 0.2532 - precision_2: 0.9223 - recall_2: 0.8971 - val_loss: 0.2504 - val_precision_2: 0.9231 - val_recall_2: 0.8889\n",
            "Epoch 12/16\n",
            "34/34 [==============================] - 0s 5ms/step - loss: 0.2298 - precision_2: 0.9380 - recall_2: 0.9003 - val_loss: 0.3712 - val_precision_2: 0.8488 - val_recall_2: 0.9012\n",
            "Epoch 13/16\n",
            "34/34 [==============================] - 0s 12ms/step - loss: 0.2662 - precision_2: 0.9103 - recall_2: 0.8810 - val_loss: 0.2535 - val_precision_2: 0.9605 - val_recall_2: 0.9012\n",
            "Epoch 14/16\n",
            "34/34 [==============================] - 0s 9ms/step - loss: 0.2334 - precision_2: 0.9197 - recall_2: 0.8842 - val_loss: 0.2475 - val_precision_2: 0.9444 - val_recall_2: 0.8395\n",
            "Epoch 15/16\n",
            "34/34 [==============================] - 0s 6ms/step - loss: 0.2685 - precision_2: 0.9124 - recall_2: 0.8875 - val_loss: 0.3182 - val_precision_2: 0.9688 - val_recall_2: 0.7654\n",
            "Epoch 16/16\n",
            "34/34 [==============================] - 0s 6ms/step - loss: 0.2215 - precision_2: 0.9235 - recall_2: 0.8923 - val_loss: 0.2703 - val_precision_2: 0.9467 - val_recall_2: 0.8765\n",
            "5/5 [==============================] - 0s 4ms/step - loss: 0.4730 - precision_2: 0.9706 - recall_2: 0.8250\n",
            "\n",
            "Accuracy: 0.888059675693512\n",
            "F1-score: 0.8918918730831216\n",
            "Precision: 0.970588207244873\n",
            "Recall: 0.824999988079071\n"
          ]
        }
      ]
    },
    {
      "cell_type": "markdown",
      "source": [
        "Penjelasan mengenai hasil evaluasi dengan menggunakan metrics nilai accuracy, precision, recall dan F1-Score pada model1d:\n",
        "Untuk menjelaskan hasil ini, Anda dapat menggunakan definisi dan interpretasi yang sama dengan sebelumnya. Misalnya, Anda dapat menjelaskan seperti ini:\n",
        "\n",
        "- Akurasi adalah rasio antara jumlah prediksi yang benar dan jumlah total prediksi. Nilai akurasi yang tinggi menunjukkan bahwa model dapat mengklasifikasikan data dengan tepat. Nilai akurasi 0.88 berarti bahwa model dapat mengklasifikasikan mendekati 90% data dengan benar, dan salah sekitar 10%. Ini menunjukkan bahwa model memiliki performa yang baik dan akurat.\n",
        "- F1-score adalah rata-rata harmonik dari presisi dan recall. Nilai f1-score yang tinggi menunjukkan bahwa model memiliki keseimbangan yang baik antara presisi dan recall. Nilai f1-score mendekati 0.9 berarti bahwa model memiliki keseimbangan yang sangat baik antara presisi dan recall, dan mendekati nilai optimal 1.\n",
        "- Presisi adalah rasio antara jumlah prediksi positif yang benar dan jumlah total prediksi positif. Nilai presisi yang tinggi menunjukkan bahwa model dapat menghindari kesalahan positif palsu (false positive). Nilai presisi 0.9221 berarti bahwa model dapat menghindari sekitar 97% kesalahan (false positive), dan hanya membuat sekitar 3% kesalahan (false positive).\n",
        "- Recall adalah rasio antara jumlah prediksi positif yang benar dan jumlah total data positif. Nilai recall yang tinggi menunjukkan bahwa model dapat mengenali sebagian besar data positif. Nilai recall 0.825 berarti bahwa model dapat mengenali sekitar 89% data positif, dan hanya melewatkan sekitar 18% data positif.\n",
        "\n",
        "Dari hasil di atas, dapat disimpulkan bahwa model memiliki performa yang sangat baik dalam hal akurasi, presisi, recall, dan f1-score. Model cenderung lebih spesifik dalam menghindari kesalahan (false positive) daripada sensitif dalam mengenali data positif.\n",
        "\n"
      ],
      "metadata": {
        "id": "5xC8OHej0TFl"
      }
    }
  ]
}